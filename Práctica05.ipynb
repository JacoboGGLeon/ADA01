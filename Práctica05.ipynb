{
  "nbformat": 4,
  "nbformat_minor": 0,
  "metadata": {
    "colab": {
      "name": "Práctica05.ipynb",
      "provenance": [],
      "toc_visible": true,
      "authorship_tag": "ABX9TyPSNl3C5GGDstdklrmSp9SB"
    },
    "kernelspec": {
      "name": "python3",
      "display_name": "Python 3"
    }
  },
  "cells": [
    {
      "cell_type": "code",
      "metadata": {
        "colab": {
          "base_uri": "https://localhost:8080/"
        },
        "id": "lb3mXmQBM_EW",
        "outputId": "c443d5c9-c7e0-4132-bfb7-b8c8a3751be6"
      },
      "source": [
        "!pip install big-O-calculator"
      ],
      "execution_count": null,
      "outputs": [
        {
          "output_type": "stream",
          "text": [
            "Collecting big-O-calculator\n",
            "  Downloading https://files.pythonhosted.org/packages/f3/e1/8abcd5ba0b2c249d25c1f16cc8aa9838c993061ce322b0ac5ed42251a5d0/big_O_calculator-0.0.9.8.2-py3-none-any.whl\n",
            "Installing collected packages: big-O-calculator\n",
            "Successfully installed big-O-calculator-0.0.9.8.2\n"
          ],
          "name": "stdout"
        }
      ]
    },
    {
      "cell_type": "markdown",
      "metadata": {
        "id": "E1zYUg_TOMbj"
      },
      "source": [
        "### Big-O calculator definition"
      ]
    },
    {
      "cell_type": "markdown",
      "metadata": {
        "id": "qfHe5v6sUYcp"
      },
      "source": [
        "#### Methods"
      ]
    },
    {
      "cell_type": "markdown",
      "metadata": {
        "id": "tfYWHmBLNuvR"
      },
      "source": [
        "```python\n",
        "    def test(function, array=\"random\", limit=True, prtResult=True):\n",
        "      # It will run only specified array test, returns Tuple[str, estimatedTime]\n",
        "      # function [Callable]: a function to call.\n",
        "      # array [str]: \"random\", \"big\", \"sorted\", \"reversed\", \"partial\", \"Ksorted\", \"string\", \"almost_equal\", \"equal\", \"hole\".\n",
        "      # limit [bool] = True: To break before it takes \"forever\" to sort an array. (ex. selectionSort)\n",
        "      # prtResult [bool] = True: Whether to print result by itself\n",
        "        \n",
        "    def test_all(function):\n",
        "      # It will run all test cases, prints (best, average, worst cases), returns dict\n",
        "      # function [Callable]: a function to call.\n",
        "\n",
        "    def runtime(function, array=\"random\", size, epoch=1):\n",
        "      # It will simply returns execution time to sort length of size of test array, returns Tuple[float, List[Any]]\n",
        "      # functionName [Callable]: a function to call.\n",
        "      # array: \"random\", \"big\", \"sorted\", \"partial\", \"reversed\", \"Ksorted\", \"hole\", \"equal\", \"almost_equal\" or your custom array.\n",
        "      # size [int]: How big test array should be.\n",
        "      # epoch [int]: How many tests to run and calculte average.\n",
        "      # prtResult (bool): Whether to print the result by itself. (default = True)\n",
        "\n",
        "    def compare(function1, function2, array, size, epoch=3):\n",
        "      # It will compare two functions on {array} case, returns dict\n",
        "      # function1 [Callable]: a function to compare.\n",
        "      # function2 [Callable]: a function to compare.\n",
        "      # array [str]|[List]: \"random\", \"big\", \"sorted\", \"partial\", \"reversed\", \"Ksorted\", \"hole\", \"equal\", \"almost_equal\", \"all\" or your custom array.\n",
        "      # size [int]: How big test array should be.\n",
        "      # epoch [int]: How many tests to run and calculte average.\n",
        "```"
      ]
    },
    {
      "cell_type": "markdown",
      "metadata": {
        "id": "S6rY5zTBRiFY"
      },
      "source": [
        "### Library"
      ]
    },
    {
      "cell_type": "code",
      "metadata": {
        "id": "MoIyvGzRNubS"
      },
      "source": [
        "from bigO import bigO\n",
        "from random import randint"
      ],
      "execution_count": null,
      "outputs": []
    },
    {
      "cell_type": "markdown",
      "metadata": {
        "id": "eAk90daZRLFb"
      },
      "source": [
        "### Quick Sort Example"
      ]
    },
    {
      "cell_type": "markdown",
      "metadata": {
        "id": "4_cVl4X-RcpB"
      },
      "source": [
        "#### Code "
      ]
    },
    {
      "cell_type": "code",
      "metadata": {
        "id": "UXVoIe2lNp8T"
      },
      "source": [
        "def quickSort(array):  # in-place | not-stable\n",
        "    \"\"\"\n",
        "    Best : O(nlogn) Time | O(logn) Space\n",
        "    Average : O(nlogn) Time | O(logn) Space\n",
        "    Worst : O(n^2) Time | O(logn) Space\n",
        "    \"\"\"\n",
        "    if len(array) <= 1:\n",
        "        return array\n",
        "    smaller, equal, larger = [], [], []\n",
        "    pivot = array[randint(0, len(array) - 1)]\n",
        "    for x in array:\n",
        "        if x < pivot:\n",
        "            smaller.append(x)\n",
        "        elif x == pivot:\n",
        "            equal.append(x)\n",
        "        else:\n",
        "            larger.append(x)\n",
        "    return quickSort(smaller) + equal + quickSort(larger)"
      ],
      "execution_count": null,
      "outputs": []
    },
    {
      "cell_type": "markdown",
      "metadata": {
        "id": "H9ntmFDRRmZ4"
      },
      "source": [
        "#### Tester"
      ]
    },
    {
      "cell_type": "code",
      "metadata": {
        "colab": {
          "base_uri": "https://localhost:8080/"
        },
        "id": "hFSWL-sAP0CK",
        "outputId": "9bf5cd6f-1eba-4970-987e-1de9a478b81d"
      },
      "source": [
        "tester = bigO()\n",
        "complexity, time = tester.test(quickSort, \"random\")\n",
        "complexity, time = tester.test(quickSort, \"sorted\")\n",
        "complexity, time = tester.test(quickSort, \"reversed\")\n",
        "complexity, time = tester.test(quickSort, \"partial\")\n",
        "complexity, time = tester.test(quickSort, \"Ksorted\")"
      ],
      "execution_count": null,
      "outputs": [
        {
          "output_type": "stream",
          "text": [
            "Running quickSort(random array)...\n",
            "Completed quickSort(random array): O(nlog(n))\n",
            "Time took: 0.37851s\n",
            "Running quickSort(sorted array)...\n",
            "Completed quickSort(sorted array): O(nlog(n))\n",
            "Time took: 0.36367s\n",
            "Running quickSort(reversed array)...\n",
            "Completed quickSort(reversed array): O(nlog(n))\n",
            "Time took: 0.36001s\n",
            "Running quickSort(partial array)...\n",
            "Completed quickSort(partial array): O(nlog(n))\n",
            "Time took: 0.36293s\n",
            "Running quickSort(Ksorted array)...\n",
            "Completed quickSort(ksorted array): O(nlog(n))\n",
            "Time took: 0.36024s\n"
          ],
          "name": "stdout"
        }
      ]
    },
    {
      "cell_type": "markdown",
      "metadata": {
        "id": "Ueh6A5pcSQvo"
      },
      "source": [
        "#### ```test_all()```"
      ]
    },
    {
      "cell_type": "code",
      "metadata": {
        "colab": {
          "base_uri": "https://localhost:8080/"
        },
        "id": "2osSU5l9SLmB",
        "outputId": "88e002f9-a3c6-4df6-8483-864a01cb5779"
      },
      "source": [
        "tester = bigO()\n",
        "\n",
        "tester.test_all(quickSort)"
      ],
      "execution_count": null,
      "outputs": [
        {
          "output_type": "stream",
          "text": [
            "Running quickSort(tests)\n",
            "Best : O(nlog(n)) Time\n",
            "Average : O(nlog(n)) Time\n",
            "Worst : O(nlog(n)) Time\n"
          ],
          "name": "stdout"
        },
        {
          "output_type": "execute_result",
          "data": {
            "text/plain": [
              "{'Ksorted': 'O(nlog(n))',\n",
              " 'almost_equal': 'O(nlog(n))',\n",
              " 'partial': 'O(nlog(n))',\n",
              " 'random': 'O(nlog(n))',\n",
              " 'reversed': 'O(nlog(n))',\n",
              " 'sorted': 'O(nlog(n))'}"
            ]
          },
          "metadata": {
            "tags": []
          },
          "execution_count": 15
        }
      ]
    },
    {
      "cell_type": "markdown",
      "metadata": {
        "id": "WLjo9m2vTny2"
      },
      "source": [
        "#### ```runtime()```"
      ]
    },
    {
      "cell_type": "code",
      "metadata": {
        "colab": {
          "base_uri": "https://localhost:8080/"
        },
        "id": "uy63ac_bTny2",
        "outputId": "b8ee41a9-0c3f-4716-b3de-d99110ff4bd1"
      },
      "source": [
        "test = bigO()\n",
        "\n",
        "timeTook, result = test.runtime(quickSort, \"random\", 5000)\n",
        "\n",
        "custom = [\"abc\", \"bbc\", \"ccd\", \"ef\", \"az\"]\n",
        "\n",
        "timeTook, result = test.runtime(quickSort, custom)"
      ],
      "execution_count": null,
      "outputs": [
        {
          "output_type": "stream",
          "text": [
            "Running quickSort(len 5000 random array)\n",
            "Took 0.01511s to sort quickSort(random)\n",
            "Running quickSort(len 5 custom array)\n",
            "Took 0.00002s to sort quickSort(custom)\n"
          ],
          "name": "stdout"
        }
      ]
    },
    {
      "cell_type": "markdown",
      "metadata": {
        "id": "v7ZSDgqaRq6u"
      },
      "source": [
        "### Selection Sort Example"
      ]
    },
    {
      "cell_type": "markdown",
      "metadata": {
        "id": "pV-X6ArjR1uK"
      },
      "source": [
        "#### Code"
      ]
    },
    {
      "cell_type": "code",
      "metadata": {
        "id": "PjA1u2m0P1F6"
      },
      "source": [
        "def selectionSort(array):  # in-place, unstable\n",
        "    '''\n",
        "    Best : O(n^2) Time | O(1) Space\n",
        "    Average : O(n^2) Time | O(1) Space\n",
        "    Worst : O(n^2) Time | O(1) Space\n",
        "    '''\n",
        "    currentIdx = 0\n",
        "    while currentIdx < len(array) - 1:\n",
        "        smallestIdx = currentIdx\n",
        "        for i in range(currentIdx + 1, len(array)):\n",
        "            if array[smallestIdx] > array[i]:\n",
        "                smallestIdx = i\n",
        "        array[currentIdx], array[smallestIdx] = array[smallestIdx], array[currentIdx]\n",
        "        currentIdx += 1\n",
        "    return array"
      ],
      "execution_count": null,
      "outputs": []
    },
    {
      "cell_type": "markdown",
      "metadata": {
        "id": "zRn6nmEWRYi2"
      },
      "source": [
        "#### Tester "
      ]
    },
    {
      "cell_type": "code",
      "metadata": {
        "colab": {
          "base_uri": "https://localhost:8080/"
        },
        "id": "hpaw4fQXP96y",
        "outputId": "880793df-461b-451e-93b7-382953f2b987"
      },
      "source": [
        "tester = bigO()\n",
        "complexity, time = tester.test(selectionSort, \"random\")\n",
        "complexity, time = tester.test(selectionSort, \"sorted\")\n",
        "complexity, time = tester.test(selectionSort, \"reversed\")\n",
        "complexity, time = tester.test(selectionSort, \"partial\")\n",
        "complexity, time = tester.test(selectionSort, \"Ksorted\")"
      ],
      "execution_count": null,
      "outputs": [
        {
          "output_type": "stream",
          "text": [
            "Running selectionSort(random array)...\n",
            "Completed selectionSort(random array): O(n^2)\n",
            "Time took: 3.30807s\n",
            "Running selectionSort(sorted array)...\n",
            "Completed selectionSort(sorted array): O(n^2)\n",
            "Time took: 3.29703s\n",
            "Running selectionSort(reversed array)...\n",
            "Completed selectionSort(reversed array): O(n^2)\n",
            "Time took: 3.31869s\n",
            "Running selectionSort(partial array)...\n",
            "Completed selectionSort(partial array): O(n^2)\n",
            "Time took: 3.28799s\n",
            "Running selectionSort(Ksorted array)...\n",
            "Completed selectionSort(ksorted array): O(n^2)\n",
            "Time took: 3.26827s\n"
          ],
          "name": "stdout"
        }
      ]
    },
    {
      "cell_type": "markdown",
      "metadata": {
        "id": "lN-vfrSOQRJ9"
      },
      "source": [
        "#### ```test_all()```"
      ]
    },
    {
      "cell_type": "code",
      "metadata": {
        "colab": {
          "base_uri": "https://localhost:8080/"
        },
        "id": "RWOSwa4xQFpD",
        "outputId": "c7a59d9e-6f35-4764-a53b-74a655200e60"
      },
      "source": [
        "tester = bigO()\n",
        "\n",
        "tester.test_all(selectionSort)"
      ],
      "execution_count": null,
      "outputs": [
        {
          "output_type": "stream",
          "text": [
            "Running selectionSort(tests)\n",
            "Best : O(n^2) Time\n",
            "Average : O(n^2) Time\n",
            "Worst : O(n^2) Time\n",
            "Running selectionSort(tests)\n",
            "Best : O(n^2) Time\n",
            "Average : O(n^2) Time\n",
            "Worst : O(n^2) Time\n",
            "{'random': 'O(n^2)', 'sorted': 'O(n^2)', 'reversed': 'O(n^2)', 'partial': 'O(n^2)', 'Ksorted': 'O(n^2)', 'almost_equal': 'O(n^2)'}\n"
          ],
          "name": "stdout"
        }
      ]
    },
    {
      "cell_type": "markdown",
      "metadata": {
        "id": "KC5ADhbqSubk"
      },
      "source": [
        "#### ```runtime()```"
      ]
    },
    {
      "cell_type": "code",
      "metadata": {
        "colab": {
          "base_uri": "https://localhost:8080/"
        },
        "id": "AgYWvPEDQHEa",
        "outputId": "97f66384-c688-4054-e21b-f81bb096dcc2"
      },
      "source": [
        "test = bigO()\n",
        "\n",
        "timeTook, result = test.runtime(selectionSort, \"random\", 5000)\n",
        "\n",
        "custom = [\"abc\", \"bbc\", \"ccd\", \"ef\", \"az\"]\n",
        "\n",
        "timeTook, result = test.runtime(selectionSort, custom)"
      ],
      "execution_count": null,
      "outputs": [
        {
          "output_type": "stream",
          "text": [
            "Running selectionSort(len 5000 random array)\n",
            "Took 0.90150s to sort selectionSort(random)\n",
            "Running selectionSort(len 5 custom array)\n",
            "Took 0.00001s to sort selectionSort(custom)\n"
          ],
          "name": "stdout"
        }
      ]
    },
    {
      "cell_type": "markdown",
      "metadata": {
        "id": "OaNMuz4IUGuZ"
      },
      "source": [
        "### ```compare()```"
      ]
    },
    {
      "cell_type": "code",
      "metadata": {
        "colab": {
          "base_uri": "https://localhost:8080/"
        },
        "id": "7VxfyKqjS11F",
        "outputId": "fd05f2e3-4267-4a51-8636-44b00cda29df"
      },
      "source": [
        "tester = bigO()\n",
        "\n",
        "result = tester.compare(quickSort, selectionSort, \"big\", 5000)\n",
        "result = tester.compare(quickSort, selectionSort, \"sorted\", 5000)\n",
        "result = tester.compare(quickSort, selectionSort, \"reversed\", 5000)\n",
        "result = tester.compare(quickSort, selectionSort, \"partial\", 5000)\n",
        "result = tester.compare(quickSort, selectionSort, \"equal\", 5000)"
      ],
      "execution_count": null,
      "outputs": [
        {
          "output_type": "stream",
          "text": [
            "quickSort is 4812.7% faster than selectionSort on big case\n",
            "Time Difference: 0.80616s\n",
            "quickSort is 6166.3% faster than selectionSort on sorted case\n",
            "Time Difference: 0.82256s\n",
            "quickSort is 6235.4% faster than selectionSort on reversed case\n",
            "Time Difference: 0.83517s\n",
            "quickSort is 6071.6% faster than selectionSort on partial case\n",
            "Time Difference: 0.84477s\n",
            "quickSort is 150890.4% faster than selectionSort on equal case\n",
            "Time Difference: 0.79974s\n"
          ],
          "name": "stdout"
        }
      ]
    },
    {
      "cell_type": "code",
      "metadata": {
        "colab": {
          "base_uri": "https://localhost:8080/"
        },
        "id": "5oCAF6WIk1kJ",
        "outputId": "4304b4a3-5093-4458-979e-5eae6d684e50"
      },
      "source": [
        "result = tester.compare(quickSort, selectionSort, \"all\", 5000)"
      ],
      "execution_count": null,
      "outputs": [
        {
          "output_type": "stream",
          "text": [
            "Running quickSort(tests) vs selectionSort(tests)\n",
            "quickSort is 8703.2% faster than selectionSort on 9 of 9 cases\n",
            "Time Difference: 0.81056s\n"
          ],
          "name": "stdout"
        }
      ]
    }
  ]
}